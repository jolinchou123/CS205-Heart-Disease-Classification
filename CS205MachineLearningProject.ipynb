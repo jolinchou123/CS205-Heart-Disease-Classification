{
  "nbformat": 4,
  "nbformat_minor": 0,
  "metadata": {
    "colab": {
      "name": "CS205MachineLearningProject.ipynb",
      "provenance": [],
      "collapsed_sections": []
    },
    "kernelspec": {
      "display_name": "Python 3",
      "name": "python3"
    },
    "language_info": {
      "name": "python"
    }
  },
  "cells": [
    {
      "cell_type": "markdown",
      "metadata": {
        "id": "IiQPUhkjuhWU"
      },
      "source": [
        "#The Heart Disease Classification\n",
        " \n",
        "##The Question\n",
        " \n",
        "Heart disease is one of the major causes of death within the U.S., often leading to other illnesses. Determining the presence of heart disease in patients early helps to mitigate the long term effects. We can use different Machine Learning models to facilitate early detection of heart disease in patients. We already know that there are a large number of machine learning algorithms in the wild. Occam's Razor tells us simpler models should be selected to prevent overfitting [1]. However, how well do the simple models do and which performs better? How easily are simple models trained?\n",
        " \n",
        "##The Data\n",
        " \n",
        "We obtained the \"Heart Failure Prediction Dataset\" from a Kaggle project page [3]. The data is real world data collected from hospitals. Our dataset consists of 918 rows of data with 11 patient features. We divided the data into a training set and a test set. We used 70% for our training set and 30% for our testing set. We aim to train three models on the training set to \"predict\" heart failures on the test set.\n",
        " \n",
        "##The Approach\n",
        " \n",
        "We apply three different machine learning algorithms: KNN, Random Forest, Logistic Regression, in order to get the classifications and compare their differences, such as speed and accuracy.\n",
        " \n",
        "##Our Hypothesis\n",
        "\n",
        "We guess that Random Forest is the most time-consuming model to train and the most accurate model. We hypothesize that more neighbors in KNN will result in better accuracy and robustness against outliers.\n",
        " \n",
        "##Why Bother?\n",
        " \n",
        "We are curious about how easily it can be to use existing machine learning frameworks to train models to classify data. What’s more, there are practical applications of heart disease prediction in health care.\n",
        "\n",
        "##Challenges\n",
        "\n",
        "Data preprocessing is a challenge. To use sklearn to train ML models, we need to be familiar with the structure of our data. We have to encode columns with categorical data and split our feature data from our label data. We also need to understand which parameters can be important for different models and tune them. To use the Sklearn APIs we need to thoroughly understand how to format the parameters and their return values. \n"
      ]
    },
    {
      "cell_type": "markdown",
      "metadata": {
        "id": "yEdfC5pqw5BH"
      },
      "source": [
        "##Tutorial"
      ]
    },
    {
      "cell_type": "markdown",
      "metadata": {
        "id": "OXrsi6MgvuSN"
      },
      "source": [
        "Before running our project, you (the reader) need to first download the “heart.csv” file from Google Drive and upload it to Google Colab (this document). *(See \"Instruction.png\" in Google Drive.)*\n",
        "\n",
        "Here are descriptions of packages we apply in our project:\n",
        "*   \"Sklearn\" is the most important library that provides numerous machine learning models. It also offers functions for preprocessing data and listing the classification results. \n",
        "*   \"Pandas\" is \"Python Data Analysis Library\", it can parse data from csv files.\n",
        "*   \"Matplotlib\" and \"Seaborn\" allow us to create plots and visualize the data.\n",
        "*   \"Numpy\" is a nice library in Python to store values inside the matrix.\n",
        " \n",
        "Now, we need to import our data to train and test our model. Let's start off by importing \"Pandas\" to receive our csv file first."
      ]
    },
    {
      "cell_type": "code",
      "metadata": {
        "id": "YlONx6fgv9Fx"
      },
      "source": [
        "import pandas as pd\n",
        "\n",
        "df = pd.read_csv(\"heart.csv\")"
      ],
      "execution_count": null,
      "outputs": []
    },
    {
      "cell_type": "markdown",
      "metadata": {
        "id": "9xujjSXAvY8p"
      },
      "source": [
        "Let's also use the head() function to take a peek at the structure of our data."
      ]
    },
    {
      "cell_type": "code",
      "metadata": {
        "id": "SoEfmYbXvgLv",
        "colab": {
          "base_uri": "https://localhost:8080/",
          "height": 226
        },
        "outputId": "c871d3a3-9bcc-42c0-8736-52c02cfb7270"
      },
      "source": [
        "df.head()"
      ],
      "execution_count": null,
      "outputs": [
        {
          "output_type": "execute_result",
          "data": {
            "text/html": [
              "<div>\n",
              "<style scoped>\n",
              "    .dataframe tbody tr th:only-of-type {\n",
              "        vertical-align: middle;\n",
              "    }\n",
              "\n",
              "    .dataframe tbody tr th {\n",
              "        vertical-align: top;\n",
              "    }\n",
              "\n",
              "    .dataframe thead th {\n",
              "        text-align: right;\n",
              "    }\n",
              "</style>\n",
              "<table border=\"1\" class=\"dataframe\">\n",
              "  <thead>\n",
              "    <tr style=\"text-align: right;\">\n",
              "      <th></th>\n",
              "      <th>Age</th>\n",
              "      <th>Sex</th>\n",
              "      <th>ChestPainType</th>\n",
              "      <th>RestingBP</th>\n",
              "      <th>Cholesterol</th>\n",
              "      <th>FastingBS</th>\n",
              "      <th>RestingECG</th>\n",
              "      <th>MaxHR</th>\n",
              "      <th>ExerciseAngina</th>\n",
              "      <th>Oldpeak</th>\n",
              "      <th>ST_Slope</th>\n",
              "      <th>HeartDisease</th>\n",
              "    </tr>\n",
              "  </thead>\n",
              "  <tbody>\n",
              "    <tr>\n",
              "      <th>0</th>\n",
              "      <td>40</td>\n",
              "      <td>M</td>\n",
              "      <td>ATA</td>\n",
              "      <td>140</td>\n",
              "      <td>289</td>\n",
              "      <td>0</td>\n",
              "      <td>Normal</td>\n",
              "      <td>172</td>\n",
              "      <td>N</td>\n",
              "      <td>0.0</td>\n",
              "      <td>Up</td>\n",
              "      <td>0</td>\n",
              "    </tr>\n",
              "    <tr>\n",
              "      <th>1</th>\n",
              "      <td>49</td>\n",
              "      <td>F</td>\n",
              "      <td>NAP</td>\n",
              "      <td>160</td>\n",
              "      <td>180</td>\n",
              "      <td>0</td>\n",
              "      <td>Normal</td>\n",
              "      <td>156</td>\n",
              "      <td>N</td>\n",
              "      <td>1.0</td>\n",
              "      <td>Flat</td>\n",
              "      <td>1</td>\n",
              "    </tr>\n",
              "    <tr>\n",
              "      <th>2</th>\n",
              "      <td>37</td>\n",
              "      <td>M</td>\n",
              "      <td>ATA</td>\n",
              "      <td>130</td>\n",
              "      <td>283</td>\n",
              "      <td>0</td>\n",
              "      <td>ST</td>\n",
              "      <td>98</td>\n",
              "      <td>N</td>\n",
              "      <td>0.0</td>\n",
              "      <td>Up</td>\n",
              "      <td>0</td>\n",
              "    </tr>\n",
              "    <tr>\n",
              "      <th>3</th>\n",
              "      <td>48</td>\n",
              "      <td>F</td>\n",
              "      <td>ASY</td>\n",
              "      <td>138</td>\n",
              "      <td>214</td>\n",
              "      <td>0</td>\n",
              "      <td>Normal</td>\n",
              "      <td>108</td>\n",
              "      <td>Y</td>\n",
              "      <td>1.5</td>\n",
              "      <td>Flat</td>\n",
              "      <td>1</td>\n",
              "    </tr>\n",
              "    <tr>\n",
              "      <th>4</th>\n",
              "      <td>54</td>\n",
              "      <td>M</td>\n",
              "      <td>NAP</td>\n",
              "      <td>150</td>\n",
              "      <td>195</td>\n",
              "      <td>0</td>\n",
              "      <td>Normal</td>\n",
              "      <td>122</td>\n",
              "      <td>N</td>\n",
              "      <td>0.0</td>\n",
              "      <td>Up</td>\n",
              "      <td>0</td>\n",
              "    </tr>\n",
              "  </tbody>\n",
              "</table>\n",
              "</div>"
            ],
            "text/plain": [
              "   Age Sex ChestPainType  ...  Oldpeak  ST_Slope  HeartDisease\n",
              "0   40   M           ATA  ...      0.0        Up             0\n",
              "1   49   F           NAP  ...      1.0      Flat             1\n",
              "2   37   M           ATA  ...      0.0        Up             0\n",
              "3   48   F           ASY  ...      1.5      Flat             1\n",
              "4   54   M           NAP  ...      0.0        Up             0\n",
              "\n",
              "[5 rows x 12 columns]"
            ]
          },
          "metadata": {},
          "execution_count": 71
        }
      ]
    },
    {
      "cell_type": "markdown",
      "metadata": {
        "id": "78GOIbJNx5Fg"
      },
      "source": [
        "Our table contains features along the columns, and finally with a label for Heart Disease.\n",
        "The structure of our labeled data allows us to train various ML models like KNN, Random Forrest, and Logistic Regression."
      ]
    },
    {
      "cell_type": "markdown",
      "metadata": {
        "id": "5Ar7yMVlBO4M"
      },
      "source": [
        "We also can see that our dataset contains categorical data.\n",
        "\n",
        "For our ML model to be trained, we must encode these categorical values into numerical values.\n",
        "\n",
        "To transform our categorical data into numerical data, we’ll use sklearn’s LabelEncoder module."
      ]
    },
    {
      "cell_type": "code",
      "metadata": {
        "id": "FovQv_7CBcHo",
        "colab": {
          "base_uri": "https://localhost:8080/",
          "height": 226
        },
        "outputId": "9da53a8e-e3fd-4c1e-ef3e-32b5b135295b"
      },
      "source": [
        "from sklearn.preprocessing import LabelEncoder\n",
        " \n",
        "#Initialize label encoder objects (1 for each column we need to encode)\n",
        "le_Sex = LabelEncoder()\n",
        "le_Chest_Pain_Type = LabelEncoder()\n",
        "le_Resting_ECG = LabelEncoder()\n",
        "le_Exercise_Angina = LabelEncoder()\n",
        "le_ST_Slope = LabelEncoder()\n",
        " \n",
        "#Transform the categorical data to numerical data each of the categorical columns in the dataframe\n",
        "df[\"Sex\"] = le_Sex.fit_transform(df[\"Sex\"])\n",
        "df[\"ChestPainType\"] = le_Chest_Pain_Type.fit_transform(df[\"ChestPainType\"])\n",
        "df[\"RestingECG\"] = le_Resting_ECG.fit_transform(df[\"RestingECG\"])\n",
        "df[\"ExerciseAngina\"] = le_Exercise_Angina.fit_transform(df[\"ExerciseAngina\"])\n",
        "df[\"ST_Slope\"] = le_ST_Slope.fit_transform(df[\"ST_Slope\"])\n",
        " \n",
        "df.head()\n",
        "\n"
      ],
      "execution_count": null,
      "outputs": [
        {
          "output_type": "execute_result",
          "data": {
            "text/html": [
              "<div>\n",
              "<style scoped>\n",
              "    .dataframe tbody tr th:only-of-type {\n",
              "        vertical-align: middle;\n",
              "    }\n",
              "\n",
              "    .dataframe tbody tr th {\n",
              "        vertical-align: top;\n",
              "    }\n",
              "\n",
              "    .dataframe thead th {\n",
              "        text-align: right;\n",
              "    }\n",
              "</style>\n",
              "<table border=\"1\" class=\"dataframe\">\n",
              "  <thead>\n",
              "    <tr style=\"text-align: right;\">\n",
              "      <th></th>\n",
              "      <th>Age</th>\n",
              "      <th>Sex</th>\n",
              "      <th>ChestPainType</th>\n",
              "      <th>RestingBP</th>\n",
              "      <th>Cholesterol</th>\n",
              "      <th>FastingBS</th>\n",
              "      <th>RestingECG</th>\n",
              "      <th>MaxHR</th>\n",
              "      <th>ExerciseAngina</th>\n",
              "      <th>Oldpeak</th>\n",
              "      <th>ST_Slope</th>\n",
              "      <th>HeartDisease</th>\n",
              "    </tr>\n",
              "  </thead>\n",
              "  <tbody>\n",
              "    <tr>\n",
              "      <th>0</th>\n",
              "      <td>40</td>\n",
              "      <td>1</td>\n",
              "      <td>1</td>\n",
              "      <td>140</td>\n",
              "      <td>289</td>\n",
              "      <td>0</td>\n",
              "      <td>1</td>\n",
              "      <td>172</td>\n",
              "      <td>0</td>\n",
              "      <td>0.0</td>\n",
              "      <td>2</td>\n",
              "      <td>0</td>\n",
              "    </tr>\n",
              "    <tr>\n",
              "      <th>1</th>\n",
              "      <td>49</td>\n",
              "      <td>0</td>\n",
              "      <td>2</td>\n",
              "      <td>160</td>\n",
              "      <td>180</td>\n",
              "      <td>0</td>\n",
              "      <td>1</td>\n",
              "      <td>156</td>\n",
              "      <td>0</td>\n",
              "      <td>1.0</td>\n",
              "      <td>1</td>\n",
              "      <td>1</td>\n",
              "    </tr>\n",
              "    <tr>\n",
              "      <th>2</th>\n",
              "      <td>37</td>\n",
              "      <td>1</td>\n",
              "      <td>1</td>\n",
              "      <td>130</td>\n",
              "      <td>283</td>\n",
              "      <td>0</td>\n",
              "      <td>2</td>\n",
              "      <td>98</td>\n",
              "      <td>0</td>\n",
              "      <td>0.0</td>\n",
              "      <td>2</td>\n",
              "      <td>0</td>\n",
              "    </tr>\n",
              "    <tr>\n",
              "      <th>3</th>\n",
              "      <td>48</td>\n",
              "      <td>0</td>\n",
              "      <td>0</td>\n",
              "      <td>138</td>\n",
              "      <td>214</td>\n",
              "      <td>0</td>\n",
              "      <td>1</td>\n",
              "      <td>108</td>\n",
              "      <td>1</td>\n",
              "      <td>1.5</td>\n",
              "      <td>1</td>\n",
              "      <td>1</td>\n",
              "    </tr>\n",
              "    <tr>\n",
              "      <th>4</th>\n",
              "      <td>54</td>\n",
              "      <td>1</td>\n",
              "      <td>2</td>\n",
              "      <td>150</td>\n",
              "      <td>195</td>\n",
              "      <td>0</td>\n",
              "      <td>1</td>\n",
              "      <td>122</td>\n",
              "      <td>0</td>\n",
              "      <td>0.0</td>\n",
              "      <td>2</td>\n",
              "      <td>0</td>\n",
              "    </tr>\n",
              "  </tbody>\n",
              "</table>\n",
              "</div>"
            ],
            "text/plain": [
              "   Age  Sex  ChestPainType  ...  Oldpeak  ST_Slope  HeartDisease\n",
              "0   40    1              1  ...      0.0         2             0\n",
              "1   49    0              2  ...      1.0         1             1\n",
              "2   37    1              1  ...      0.0         2             0\n",
              "3   48    0              0  ...      1.5         1             1\n",
              "4   54    1              2  ...      0.0         2             0\n",
              "\n",
              "[5 rows x 12 columns]"
            ]
          },
          "metadata": {},
          "execution_count": 72
        }
      ]
    },
    {
      "cell_type": "markdown",
      "metadata": {
        "id": "TLv9ROPnG20B"
      },
      "source": [
        "Now, all our categorical data has been encoded into numerical data."
      ]
    },
    {
      "cell_type": "markdown",
      "metadata": {
        "id": "HyyQMXJU4N3G"
      },
      "source": [
        "Let's split our data so that the Heart Disease column is separated from the features.\n",
        "\n",
        "We want to modify our table such that column 11, the column that labels the presence of Heart Disease isn't a feature in our ML model.\n",
        "\n",
        "We want to be able to give our model a row containing columns 0-10 (patient features) and have it \"predict\" what column 11 should be (does this patient have heart disease?).\n",
        "\n",
        "We store the first 10 columns, which are the features, into table X.\n",
        "Then we store column 11 into table y.\n",
        "\n"
      ]
    },
    {
      "cell_type": "code",
      "metadata": {
        "id": "jxPRHyVT4yGm"
      },
      "source": [
        "X = df.iloc[:,:-1].values\n",
        "y = df.iloc[:,11].values"
      ],
      "execution_count": null,
      "outputs": []
    },
    {
      "cell_type": "markdown",
      "metadata": {
        "id": "u1r7RdFG5BiR"
      },
      "source": [
        "Let's use print to check if it worked.\n"
      ]
    },
    {
      "cell_type": "code",
      "metadata": {
        "id": "cO520YAN5FkO",
        "colab": {
          "base_uri": "https://localhost:8080/"
        },
        "outputId": "128aaa6b-be37-435c-8897-217928950eb9"
      },
      "source": [
        "print(X)"
      ],
      "execution_count": null,
      "outputs": [
        {
          "output_type": "stream",
          "name": "stdout",
          "text": [
            "[[40.   1.   1.  ...  0.   0.   2. ]\n",
            " [49.   0.   2.  ...  0.   1.   1. ]\n",
            " [37.   1.   1.  ...  0.   0.   2. ]\n",
            " ...\n",
            " [57.   1.   0.  ...  1.   1.2  1. ]\n",
            " [57.   0.   1.  ...  0.   0.   1. ]\n",
            " [38.   1.   2.  ...  0.   0.   2. ]]\n"
          ]
        }
      ]
    },
    {
      "cell_type": "code",
      "metadata": {
        "id": "G537jGi65aSH",
        "colab": {
          "base_uri": "https://localhost:8080/"
        },
        "outputId": "cad2e61a-23c2-483f-a91b-18c60737c3e5"
      },
      "source": [
        "print(y)"
      ],
      "execution_count": null,
      "outputs": [
        {
          "output_type": "stream",
          "name": "stdout",
          "text": [
            "[0 1 0 1 0 0 0 0 1 0 0 1 0 1 0 0 1 0 1 1 0 0 0 1 0 0 0 0 0 0 1 0 1 1 0 0 1\n",
            " 0 0 0 0 1 0 0 1 0 0 0 0 1 1 1 0 0 0 0 1 1 0 1 0 0 0 1 0 0 0 0 1 0 1 0 1 0\n",
            " 1 0 1 0 0 1 0 0 1 0 1 1 1 0 1 0 0 0 0 1 0 1 0 0 0 0 1 0 1 1 1 0 0 0 0 0 0\n",
            " 1 0 0 0 1 1 1 0 1 1 0 0 1 0 0 0 0 0 0 0 1 1 1 0 1 0 0 1 1 1 1 1 0 1 0 0 0\n",
            " 0 1 0 0 0 0 0 1 1 0 1 0 1 1 0 0 0 1 1 0 0 0 0 0 0 0 1 1 1 0 0 0 1 0 1 0 0\n",
            " 1 0 1 0 1 0 0 0 0 0 0 0 0 1 0 0 0 0 0 0 0 0 1 0 1 1 1 0 0 1 0 1 0 0 0 1 1\n",
            " 0 0 0 1 0 1 0 0 0 0 0 0 0 0 1 1 1 1 0 1 1 0 1 0 1 1 1 1 1 1 0 0 1 0 0 0 0\n",
            " 0 0 0 1 1 1 0 1 0 1 0 0 0 1 0 0 0 1 1 0 0 0 1 0 0 0 0 0 0 0 0 0 0 0 1 1 1\n",
            " 1 1 1 1 1 0 1 1 1 1 1 0 1 1 0 1 1 1 0 1 1 1 1 1 1 1 1 1 1 1 0 1 1 1 1 1 0\n",
            " 1 1 1 0 1 1 1 1 1 1 1 1 1 1 1 1 1 1 1 1 1 1 1 1 1 1 1 1 1 1 1 0 1 1 1 1 1\n",
            " 1 1 1 1 1 1 1 1 1 1 1 1 1 1 1 1 1 1 1 1 1 1 1 1 1 1 1 1 1 1 1 1 1 1 1 1 1\n",
            " 1 1 1 1 1 1 1 1 1 1 0 1 1 0 0 1 0 1 1 0 1 1 1 1 0 1 1 0 0 1 1 1 0 1 1 1 1\n",
            " 1 1 1 1 1 1 1 1 1 0 1 0 1 1 1 0 1 1 1 0 1 0 1 0 1 0 1 1 1 1 0 1 0 1 1 1 1\n",
            " 1 1 1 1 1 0 1 0 1 1 1 1 1 1 1 0 1 1 1 1 1 1 0 1 1 1 0 1 1 0 1 0 1 1 0 1 1\n",
            " 1 1 0 1 1 1 0 0 1 0 1 1 1 1 1 1 1 1 1 1 1 0 1 1 1 1 0 0 1 1 1 0 1 0 1 1 0\n",
            " 1 0 1 1 1 0 0 0 1 1 1 0 1 1 1 1 1 1 1 1 1 1 1 1 1 1 1 1 0 1 1 1 0 1 1 0 0\n",
            " 1 1 1 1 1 0 1 1 0 1 1 1 0 0 1 1 1 1 1 0 1 0 1 1 0 1 0 0 0 1 1 1 1 0 0 0 1\n",
            " 0 0 1 1 0 0 1 0 0 0 0 0 0 0 1 0 1 0 0 1 1 1 1 1 0 0 1 0 0 0 1 0 1 1 1 1 1\n",
            " 0 0 0 0 0 1 0 1 1 0 1 0 0 0 1 0 1 0 1 1 0 0 0 0 1 0 0 0 0 1 1 1 0 0 0 0 0\n",
            " 0 1 0 1 1 1 1 1 0 1 0 0 0 1 0 1 1 1 0 1 1 0 1 0 1 0 0 0 1 1 0 1 1 1 1 0 0\n",
            " 0 1 0 0 1 1 1 0 1 0 0 0 1 0 0 1 0 1 0 1 1 1 1 1 0 0 0 0 0 0 0 1 0 0 1 1 1\n",
            " 0 1 0 0 0 0 0 1 0 1 1 0 0 1 1 1 1 0 0 1 1 0 0 0 1 0 0 1 0 1 0 1 0 0 0 0 0\n",
            " 1 0 1 1 1 1 0 0 0 1 0 1 0 0 1 0 0 0 0 0 0 1 1 0 1 0 0 1 1 0 0 1 1 0 1 0 1\n",
            " 0 1 0 0 1 0 0 1 0 1 1 0 1 1 1 0 1 0 0 0 0 1 1 0 0 1 1 0 1 0 0 0 0 1 0 0 1\n",
            " 1 1 0 0 0 1 0 1 0 1 0 1 1 1 0 0 0 1 0 1 1 1 0 1 1 1 1 1 1 0]\n"
          ]
        }
      ]
    },
    {
      "cell_type": "markdown",
      "metadata": {
        "id": "t3dP1p6E5j49"
      },
      "source": [
        "Now let's divide our dataset into a training set and a testing set.\n",
        "\n",
        "We use a 70 - 30 split, which is a common ratio to split the data.\n",
        "\n",
        "So 70% of our dataset will be used to train our model and the remaining 30% will be used to test it."
      ]
    },
    {
      "cell_type": "code",
      "metadata": {
        "id": "ZQRUA3jU5qR3"
      },
      "source": [
        "from sklearn.model_selection import train_test_split\n",
        "X_train, X_test, y_train, y_test = train_test_split(X, y, test_size=0.70)"
      ],
      "execution_count": null,
      "outputs": []
    },
    {
      "cell_type": "markdown",
      "metadata": {
        "id": "qXMKIIQH9_N-"
      },
      "source": [
        "For good practice, let's do some Feature Scaling on our data set.\n",
        "\n",
        "This is a very common data preprocessing step that prevents a single feature from unfairly skewing the results."
      ]
    },
    {
      "cell_type": "code",
      "metadata": {
        "id": "5Fqx03Yf-2Ui"
      },
      "source": [
        "from sklearn.preprocessing import StandardScaler\n",
        "scaler = StandardScaler()\n",
        "scaler.fit(X_train)\n",
        "X_train = scaler.transform(X_train)\n",
        "X_test = scaler.transform(X_test)"
      ],
      "execution_count": null,
      "outputs": []
    },
    {
      "cell_type": "markdown",
      "metadata": {
        "id": "D0H6BozHyvcP"
      },
      "source": [
        "##K-Nearest Neighbor"
      ]
    },
    {
      "cell_type": "markdown",
      "metadata": {
        "id": "xRI4B8UQy1T8"
      },
      "source": [
        "Let's use KNN to build our first ML model.\n",
        "First, let's import the modules we need to implement KNN. We're building 3 models with different values of neighbors to consider to compare their performance.\n",
        "\n",
        "I picked k to be 5, 100, 200, 225 neighbors. "
      ]
    },
    {
      "cell_type": "code",
      "metadata": {
        "id": "ABE-2dF2zKYV",
        "colab": {
          "base_uri": "https://localhost:8080/"
        },
        "outputId": "b5893f90-83ad-48fd-975e-86eb39f416ac"
      },
      "source": [
        "from sklearn.neighbors import KNeighborsClassifier\n",
        "classifier1 = KNeighborsClassifier(n_neighbors=5)\n",
        "classifier1.fit(X_train,y_train)\n",
        "classifier2 = KNeighborsClassifier(n_neighbors=100)\n",
        "classifier2.fit(X_train,y_train)\n",
        "classifier3 = KNeighborsClassifier(n_neighbors=200)\n",
        "classifier3.fit(X_train,y_train)\n",
        "classifier4 = KNeighborsClassifier(n_neighbors=225)\n",
        "classifier4.fit(X_train,y_train)"
      ],
      "execution_count": null,
      "outputs": [
        {
          "output_type": "execute_result",
          "data": {
            "text/plain": [
              "KNeighborsClassifier(n_neighbors=225)"
            ]
          },
          "metadata": {},
          "execution_count": 78
        }
      ]
    },
    {
      "cell_type": "markdown",
      "metadata": {
        "id": "FwsXoOtkLruy"
      },
      "source": [
        "Now that our KNN classifier is set up, let's use it on our testing data."
      ]
    },
    {
      "cell_type": "code",
      "metadata": {
        "id": "O2kwzOrnIZvQ"
      },
      "source": [
        "y_pred1 = classifier1.predict(X_test)\n",
        "y_pred2 = classifier2.predict(X_test)\n",
        "y_pred3 = classifier3.predict(X_test)\n",
        "y_pred4 = classifier4.predict(X_test)"
      ],
      "execution_count": null,
      "outputs": []
    },
    {
      "cell_type": "markdown",
      "metadata": {
        "id": "8b3t7BJNL0YM"
      },
      "source": [
        "Let's use the \"classification_report\" library from sklearn to try and measure how well our machine learning model did."
      ]
    },
    {
      "cell_type": "code",
      "metadata": {
        "id": "egQzHCxhK6k_",
        "colab": {
          "base_uri": "https://localhost:8080/"
        },
        "outputId": "7e9fdb73-5fad-453e-b936-127f1828172d"
      },
      "source": [
        "from sklearn.metrics import classification_report\n",
        "print(classification_report(y_test,y_pred1))\n",
        "print(classification_report(y_test,y_pred2))\n",
        "print(classification_report(y_test,y_pred3))\n",
        "print(classification_report(y_test,y_pred4))"
      ],
      "execution_count": null,
      "outputs": [
        {
          "output_type": "stream",
          "name": "stdout",
          "text": [
            "              precision    recall  f1-score   support\n",
            "\n",
            "           0       0.79      0.83      0.81       288\n",
            "           1       0.86      0.82      0.84       355\n",
            "\n",
            "    accuracy                           0.82       643\n",
            "   macro avg       0.82      0.83      0.82       643\n",
            "weighted avg       0.83      0.82      0.82       643\n",
            "\n",
            "              precision    recall  f1-score   support\n",
            "\n",
            "           0       0.76      0.89      0.82       288\n",
            "           1       0.90      0.78      0.83       355\n",
            "\n",
            "    accuracy                           0.83       643\n",
            "   macro avg       0.83      0.83      0.83       643\n",
            "weighted avg       0.84      0.83      0.83       643\n",
            "\n",
            "              precision    recall  f1-score   support\n",
            "\n",
            "           0       0.80      0.83      0.82       288\n",
            "           1       0.86      0.83      0.85       355\n",
            "\n",
            "    accuracy                           0.83       643\n",
            "   macro avg       0.83      0.83      0.83       643\n",
            "weighted avg       0.83      0.83      0.83       643\n",
            "\n",
            "              precision    recall  f1-score   support\n",
            "\n",
            "           0       0.86      0.68      0.76       288\n",
            "           1       0.78      0.91      0.84       355\n",
            "\n",
            "    accuracy                           0.81       643\n",
            "   macro avg       0.82      0.80      0.80       643\n",
            "weighted avg       0.82      0.81      0.81       643\n",
            "\n"
          ]
        }
      ]
    },
    {
      "cell_type": "markdown",
      "metadata": {
        "id": "4eXazpRhaZvS"
      },
      "source": [
        "Let's compare how these different parameters perform using some visualization.\n",
        "\n",
        "ROC curves are a very common way of visualizing the performance of a model. \n",
        "You graph a model performance based on two dimensions: \n",
        "1. True Positive Rate\n",
        "2. False Positive Rate\n",
        "\n",
        "Then you compute the Area Under the Curve (AUC) and compare them against each other. A model with a higher AUC implies better performance.\n",
        "\n",
        "Going in a diagnoal line from (0,0) to (1,1) represents a naive model.\n",
        "This represents a model that is correct 50% of the time by naively guessing the correct answer."
      ]
    },
    {
      "cell_type": "code",
      "metadata": {
        "id": "xVBxdqyTGliU",
        "colab": {
          "base_uri": "https://localhost:8080/",
          "height": 295
        },
        "outputId": "6f70a350-8fc3-4005-b871-3231c6ef0c0e"
      },
      "source": [
        "import matplotlib.pyplot as plt\n",
        "from sklearn.metrics import roc_curve, auc\n",
        "\n",
        "## Code for \"5 neighbors\" line\n",
        "line_fmt = \"-\"  #Format of this line as it’s represented in the chart\n",
        "fpr, tpr, thresholds = roc_curve(y_test,y_pred1) #Assign FalsePositiveRate, TruePositiveRate, Threshold between TruePostiveRate and FalsePositiveRate\n",
        "auc_score = auc(fpr, tpr) #Computes the area under the curve for this line\n",
        "label = \"5 neighbors : auc - \" + str(auc_score) #Label for the legend of the chart\n",
        "plt.plot(fpr, tpr, line_fmt, linewidth=5, label=label) #Plots the line on our plot object\n",
        "\n",
        "## Code for \"100 neighbors\" line\n",
        "line_fmt = \"--\"\n",
        "fpr, tpr, thresholds = roc_curve(y_test,y_pred2)\n",
        "auc_score = auc(fpr, tpr)\n",
        "label = \"100 neighbors : auc - \" + str(auc_score)\n",
        "plt.plot(fpr, tpr, line_fmt, linewidth=5, label=label)\n",
        "\n",
        "## Code for \"200 neighbors\" line\n",
        "line_fmt = \"-.\"\n",
        "fpr, tpr, thresholds = roc_curve(y_test,y_pred3)\n",
        "auc_score = auc(fpr, tpr)\n",
        "label = \"200 neighbors : auc - \" + str(auc_score)\n",
        "plt.plot(fpr, tpr, line_fmt, linewidth=5, label=label)\n",
        "\n",
        "## Code for \"225 neighbors\" line\n",
        "line_fmt = \"-\"\n",
        "fpr, tpr, thresholds = roc_curve(y_test,y_pred4)\n",
        "auc_score = auc(fpr, tpr)\n",
        "label = \"225 neighbors : auc - \" + str(auc_score)\n",
        "plt.plot(fpr, tpr, line_fmt, linewidth=5, label=label)\n",
        "\n",
        "## Format the chart\n",
        "plt.title('Comparing the performance of different neighbor parameters in KNN')\n",
        "plt.legend(loc = \"lower right\")\n",
        "\n",
        "plt.plot([0, 1], [0,1,], '--')\n",
        "plt.xlim([0.0, 1.0])\n",
        "plt.ylim([0.0,1.0])\n",
        "plt.ylabel('True Positive Rate')\n",
        "plt.xlabel('False Positive Rate')\n",
        "plt.show()\n"
      ],
      "execution_count": null,
      "outputs": [
        {
          "output_type": "display_data",
          "data": {
            "image/png": "[encoded data removed]",
            "text/plain": [
              "<Figure size 432x288 with 1 Axes>"
            ]
          },
          "metadata": {
            "needs_background": "light"
          }
        }
      ]
    },
    {
      "cell_type": "markdown",
      "metadata": {
        "id": "0jG8NVprEib-"
      },
      "source": [
        "Our results demonstrate that 5 neighbors and 100 neighbors have comparable results while 200 and 225 neighbors begins to lose accuracy with a higher False Positive Rate. Even though increasing the number of neighbors improves robustness against outliers, too many neighbors can lead to underfitting."
      ]
    },
    {
      "cell_type": "markdown",
      "metadata": {
        "id": "68kqpyUtLPJz"
      },
      "source": [
        "## Random Forest\n",
        "\n",
        "Random Forest is an easy-to-use Machine Learning algorithm that produces good results [5]. \n",
        "\n",
        "In our example, it randomly selects features, builds a large number of decision trees and let the trees predict heart diseases and make a vote/ an average to obtain a final result. \n",
        "\n",
        "The number of trees, i.e. n_estimators, can be important. In this project, we try to investigate how this hyperparameter affects the \"prediction\" (classification) power by setting it to different values. \n",
        "\n",
        "We choose n_estimators to be 100, 500, 1000, 10000, 1, respectively.\n",
        "The following code produces classification results of different n_estimators.\n"
      ]
    },
    {
      "cell_type": "code",
      "metadata": {
        "id": "KlLrRB0aLi-t",
        "colab": {
          "base_uri": "https://localhost:8080/"
        },
        "outputId": "6de49f37-5b99-4876-bf9f-60fc09fb3195"
      },
      "source": [
        "from sklearn.ensemble import RandomForestClassifier\n",
        "RFclassifier1 = RandomForestClassifier(n_estimators=100) # Choose n_estimators to be 100, 500, 1000, 10000, 1, respectively\n",
        "RFclassifier500 = RandomForestClassifier(n_estimators=500)\n",
        "RFclassifier2 = RandomForestClassifier(n_estimators=1000)\n",
        "RFclassifier3 = RandomForestClassifier(n_estimators=10000)\n",
        "RFclassifier4 = RandomForestClassifier(n_estimators=1)\n",
        "RFclassifier1.fit(X_train, y_train)\n",
        "RFclassifier500.fit(X_train, y_train)\n",
        "RFclassifier2.fit(X_train, y_train)\n",
        "RFclassifier3.fit(X_train, y_train)\n",
        "RFclassifier4.fit(X_train, y_train)\n",
        "\n",
        "# We use the models to classify the test set\n",
        "rf_pred1 = RFclassifier1.predict(X_test)\n",
        "rf_pred500 = RFclassifier500.predict(X_test)\n",
        "rf_pred2 = RFclassifier2.predict(X_test)\n",
        "rf_pred3 = RFclassifier3.predict(X_test)\n",
        "rf_pred4 = RFclassifier4.predict(X_test)\n",
        "\n",
        "# Print the report\n",
        "from sklearn.metrics import classification_report\n",
        "print(classification_report(y_test,rf_pred1))\n",
        "print(classification_report(y_test,rf_pred500))\n",
        "print(classification_report(y_test,rf_pred2))\n",
        "print(classification_report(y_test,rf_pred3))\n",
        "print(classification_report(y_test,rf_pred4))\n"
      ],
      "execution_count": null,
      "outputs": [
        {
          "output_type": "stream",
          "name": "stdout",
          "text": [
            "              precision    recall  f1-score   support\n",
            "\n",
            "           0       0.90      0.77      0.83       288\n",
            "           1       0.84      0.93      0.88       355\n",
            "\n",
            "    accuracy                           0.86       643\n",
            "   macro avg       0.87      0.85      0.85       643\n",
            "weighted avg       0.86      0.86      0.86       643\n",
            "\n",
            "              precision    recall  f1-score   support\n",
            "\n",
            "           0       0.89      0.78      0.83       288\n",
            "           1       0.84      0.92      0.88       355\n",
            "\n",
            "    accuracy                           0.86       643\n",
            "   macro avg       0.86      0.85      0.85       643\n",
            "weighted avg       0.86      0.86      0.86       643\n",
            "\n",
            "              precision    recall  f1-score   support\n",
            "\n",
            "           0       0.90      0.77      0.83       288\n",
            "           1       0.84      0.93      0.88       355\n",
            "\n",
            "    accuracy                           0.86       643\n",
            "   macro avg       0.87      0.85      0.86       643\n",
            "weighted avg       0.86      0.86      0.86       643\n",
            "\n",
            "              precision    recall  f1-score   support\n",
            "\n",
            "           0       0.89      0.78      0.83       288\n",
            "           1       0.84      0.92      0.88       355\n",
            "\n",
            "    accuracy                           0.86       643\n",
            "   macro avg       0.86      0.85      0.85       643\n",
            "weighted avg       0.86      0.86      0.86       643\n",
            "\n",
            "              precision    recall  f1-score   support\n",
            "\n",
            "           0       0.74      0.79      0.77       288\n",
            "           1       0.82      0.78      0.80       355\n",
            "\n",
            "    accuracy                           0.78       643\n",
            "   macro avg       0.78      0.78      0.78       643\n",
            "weighted avg       0.79      0.78      0.78       643\n",
            "\n"
          ]
        }
      ]
    },
    {
      "cell_type": "markdown",
      "metadata": {
        "id": "u7Sz_IojQOBr"
      },
      "source": [
        "We use some visualizations (AUC) to make the results more illutrative."
      ]
    },
    {
      "cell_type": "code",
      "metadata": {
        "id": "xYLQbhbtA88V",
        "colab": {
          "base_uri": "https://localhost:8080/",
          "height": 295
        },
        "outputId": "76aaa4be-84f6-4c13-db43-303499a0633e"
      },
      "source": [
        "import matplotlib.pyplot as plt\n",
        "from sklearn.metrics import roc_curve, auc\n",
        "\n",
        "## Code for \"100 trees\" line\n",
        "line_fmt = \"-\" #Format of this line as it’s represented in the chart\n",
        "fpr, tpr, thresholds = roc_curve(y_test,rf_pred1) #Assign FalsePositiveRate, TruePositiveRate, Threshold between TruePostiveRate and FalsePositiveRate\n",
        "auc_score = auc(fpr, tpr) #Computes the area under the curve for this line\n",
        "label = \"100 trees : auc - \" + str(auc_score) #Label for the legend of the chart\n",
        "plt.plot(fpr, tpr, line_fmt, linewidth=1, label=label) #Plots the line on our plot object\n",
        "\n",
        "## Code for \"500 trees\" line\n",
        "line_fmt = \":\"\n",
        "fpr, tpr, thresholds = roc_curve(y_test,rf_pred500)\n",
        "auc_score = auc(fpr, tpr)\n",
        "label = \"500 trees : auc - \" + str(auc_score)\n",
        "plt.plot(fpr, tpr, line_fmt, linewidth=4, label=label)\n",
        "\n",
        "## Code for \"1000 trees\" line\n",
        "line_fmt = \"--\"\n",
        "fpr, tpr, thresholds = roc_curve(y_test,rf_pred2)\n",
        "auc_score = auc(fpr, tpr)\n",
        "label = \"1000 trees : auc - \" + str(auc_score)\n",
        "plt.plot(fpr, tpr, line_fmt, linewidth=2, label=label)\n",
        "\n",
        "## Code for \"10000 trees\" line\n",
        "line_fmt = \"-.\"\n",
        "fpr, tpr, thresholds = roc_curve(y_test,rf_pred3)\n",
        "auc_score = auc(fpr, tpr)\n",
        "label = \"10000 trees : auc - \" + str(auc_score)\n",
        "plt.plot(fpr, tpr, line_fmt, linewidth=3, label=label)\n",
        "\n",
        "## Code for \"1 tree\" line\n",
        "line_fmt = \"-\"\n",
        "fpr, tpr, thresholds = roc_curve(y_test,rf_pred4)\n",
        "auc_score = auc(fpr, tpr)\n",
        "label = \"1 tree : auc - \" + str(auc_score)\n",
        "plt.plot(fpr, tpr, line_fmt, linewidth=3, label=label)\n",
        "\n",
        "## Format the chart\n",
        "plt.title('Comparing the performance of different number of estimators parameter in Random Forest')\n",
        "plt.legend(loc = \"lower right\")\n",
        "\n",
        "plt.plot([0, 1], [0,1,], '--')\n",
        "plt.xlim([0.0, 1.0])\n",
        "plt.ylim([0.0,1.0])\n",
        "plt.ylabel('True Positive Rate')\n",
        "plt.xlabel('False Positive Rate')\n",
        "plt.show()"
      ],
      "execution_count": null,
      "outputs": [
        {
          "output_type": "display_data",
          "data": {
            "image/png": "[encoded data removed]",
            "text/plain": [
              "<Figure size 432x288 with 1 Axes>"
            ]
          },
          "metadata": {
            "needs_background": "light"
          }
        }
      ]
    },
    {
      "cell_type": "markdown",
      "metadata": {
        "id": "tIaa_D-uQhiZ"
      },
      "source": [
        "Theoretically, with more number of trees, the AUC is higher which means more accurate prediction. However, in reality, there is significant improvement between our 1 tree and 100 trees models but no major difference for the models with trees  >= 100. This implies that there are diminishing returns once we exceed an optimal number of trees. It is also possible that a model with less number of trees can have a higher AUC due to ML algorithms' nondeterministic characteristic.  "
      ]
    },
    {
      "cell_type": "markdown",
      "metadata": {
        "id": "R7m6EDAqHOLL"
      },
      "source": [
        "## Logistic Regression"
      ]
    },
    {
      "cell_type": "markdown",
      "metadata": {
        "id": "QDT1jmHOrvwg"
      },
      "source": [
        "Logistic Regression models a binary dependent variable by analyzing more independent features. It is efficient to train since it only considers simple probabilistic definitions [6]. In our project, we decide to tune the parameter C, which means the inverse of regularization strength. The different values of C can influence overfitting or underfitting of data. Through the result, we can see the default of C=1 works the best. The higher the value causes overfitting, while the lower causes underfitting."
      ]
    },
    {
      "cell_type": "code",
      "metadata": {
        "id": "avKLzv8WHV-2",
        "colab": {
          "base_uri": "https://localhost:8080/"
        },
        "outputId": "ba2b17b5-ca5e-4c36-8e5d-fff37b72971e"
      },
      "source": [
        "from sklearn import linear_model\n",
        "\n",
        "#Compare the difference by changing the parameter C in LR\n",
        "regression1 = linear_model.LogisticRegression()\n",
        "regression2 = linear_model.LogisticRegression(C=100)\n",
        "regression3 = linear_model.LogisticRegression(C=0.001)\n",
        "\n",
        "regression1.fit(X_train, y_train)\n",
        "regression2.fit(X_train, y_train)\n",
        "regression3.fit(X_train, y_train)\n",
        "\n",
        "Y_pred1 = regression1.predict(X_test)\n",
        "Y_pred2 = regression2.predict(X_test)\n",
        "Y_pred3 = regression3.predict(X_test)\n",
        "\n",
        "from sklearn.metrics import classification_report\n",
        "print(classification_report(y_test,Y_pred1))\n",
        "print(classification_report(y_test,Y_pred2))\n",
        "print(classification_report(y_test,Y_pred3))"
      ],
      "execution_count": null,
      "outputs": [
        {
          "output_type": "stream",
          "name": "stdout",
          "text": [
            "              precision    recall  f1-score   support\n",
            "\n",
            "           0       0.83      0.81      0.82       288\n",
            "           1       0.85      0.86      0.86       355\n",
            "\n",
            "    accuracy                           0.84       643\n",
            "   macro avg       0.84      0.84      0.84       643\n",
            "weighted avg       0.84      0.84      0.84       643\n",
            "\n",
            "              precision    recall  f1-score   support\n",
            "\n",
            "           0       0.83      0.81      0.82       288\n",
            "           1       0.85      0.86      0.86       355\n",
            "\n",
            "    accuracy                           0.84       643\n",
            "   macro avg       0.84      0.84      0.84       643\n",
            "weighted avg       0.84      0.84      0.84       643\n",
            "\n",
            "              precision    recall  f1-score   support\n",
            "\n",
            "           0       0.95      0.44      0.60       288\n",
            "           1       0.68      0.98      0.81       355\n",
            "\n",
            "    accuracy                           0.74       643\n",
            "   macro avg       0.82      0.71      0.70       643\n",
            "weighted avg       0.80      0.74      0.71       643\n",
            "\n"
          ]
        }
      ]
    },
    {
      "cell_type": "markdown",
      "metadata": {
        "id": "RUdtq62Tr20W"
      },
      "source": [
        "Below the figure visualizes the data and shows how the library computes the precision, the recall, and so on [8]."
      ]
    },
    {
      "cell_type": "code",
      "metadata": {
        "id": "4KqeX8pLbeeR",
        "colab": {
          "base_uri": "https://localhost:8080/",
          "height": 330
        },
        "outputId": "4410267c-b9a5-44d5-aed6-3ff3ba973341"
      },
      "source": [
        "from sklearn import metrics\n",
        "\n",
        "cnf_matrix = metrics.confusion_matrix(y_test, Y_pred1)\n",
        "print(cnf_matrix)\n",
        "\n",
        "\n",
        "import seaborn as sns\n",
        "import numpy as np\n",
        "\n",
        "names = ['True Neg','False Pos','False Neg','True Pos']\n",
        "cases = [x for x in cnf_matrix.flatten()]\n",
        "\n",
        "content = [str(i)+'\\n'+str(j) for i, j in zip(names,cases)]\n",
        "content = np.array(content).reshape(2,2)\n",
        "\n",
        "sns.heatmap(cnf_matrix, annot=content, cmap=\"GnBu\" ,fmt='')\n",
        "plt.title('Confusion Matrix for Logistic Regression')\n",
        "plt.xlabel('Predicted Data')\n",
        "plt.ylabel('True Data')\n",
        "plt.show()"
      ],
      "execution_count": null,
      "outputs": [
        {
          "output_type": "stream",
          "name": "stdout",
          "text": [
            "[[234  54]\n",
            " [ 48 307]]\n"
          ]
        },
        {
          "output_type": "display_data",
          "data": {
            "image/png": "[encoded data removed]",
            "text/plain": [
              "<Figure size 432x288 with 2 Axes>"
            ]
          },
          "metadata": {
            "needs_background": "light"
          }
        }
      ]
    },
    {
      "cell_type": "markdown",
      "metadata": {
        "id": "JlLeznihsRf5"
      },
      "source": [
        "#Comparison\n",
        "We compare all three ML algorithms, using \"best\" parameters for each algorithm:"
      ]
    },
    {
      "cell_type": "code",
      "metadata": {
        "id": "DNK6aosssZnk",
        "colab": {
          "base_uri": "https://localhost:8080/",
          "height": 295
        },
        "outputId": "8ae71985-ba3d-415f-caf2-0dd3dd80960b"
      },
      "source": [
        "import matplotlib.pyplot as plt\n",
        "from sklearn.metrics import roc_curve, auc\n",
        "\n",
        "## KNN\n",
        "line_fmt = \"-\"\n",
        "fpr, tpr, thresholds = roc_curve(y_test,y_pred1)\n",
        "auc_score = auc(fpr, tpr)\n",
        "label = \"KNN : auc - \" + str(auc_score)\n",
        "plt.plot(fpr, tpr, line_fmt, linewidth=5, label=label)\n",
        "\n",
        "## Random Forest\n",
        "line_fmt = \"--\"\n",
        "fpr, tpr, thresholds = roc_curve(y_test,rf_pred3)\n",
        "auc_score = auc(fpr, tpr)\n",
        "label = \"Random Forest : auc - \" + str(auc_score)\n",
        "plt.plot(fpr, tpr, line_fmt, linewidth=5, label=label)\n",
        "\n",
        "## Logistic Regression\n",
        "line_fmt = \"-.\"\n",
        "fpr, tpr, thresholds = roc_curve(y_test,Y_pred1)\n",
        "auc_score = auc(fpr, tpr)\n",
        "label = \"Logistic Regression : auc - \" + str(auc_score)\n",
        "plt.plot(fpr, tpr, line_fmt, linewidth=5, label=label)\n",
        "\n",
        "## Format the chart\n",
        "plt.title('Comparing the performance of all 3 methods')\n",
        "plt.legend(loc = \"lower right\")\n",
        "\n",
        "plt.plot([0, 1], [0,1,], '--')\n",
        "plt.xlim([0.0, 1.0])\n",
        "plt.ylim([0.0,1.0])\n",
        "plt.ylabel('True Positive Rate')\n",
        "plt.xlabel('False Positive Rate')\n",
        "plt.show()"
      ],
      "execution_count": null,
      "outputs": [
        {
          "output_type": "display_data",
          "data": {
            "image/png": "[encoded data removed]",
            "text/plain": [
              "<Figure size 432x288 with 1 Axes>"
            ]
          },
          "metadata": {
            "needs_background": "light"
          }
        }
      ]
    },
    {
      "cell_type": "markdown",
      "metadata": {
        "id": "JI8jbJ_WeG9t"
      },
      "source": [
        "#Conclusion and Lessons Learned\n",
        "\n",
        "1. Simple classification models (KNN, Random Forest, Logistic Regression) can do pretty well and are easily trained.\n",
        "2. ROC Curve indicates that Random Forest gives the best classification performance.\n",
        "3. Machine Learning model parameters can have a great impact on the efficacy of the model, which vary the bias and variance that lead to overfitting and underfitting. When # of neighbors in KNN becomes too big we see underfitting, where classifying new points just becomes the majority class. When increasing the number of trees used in our Random Forest model we observed that our program becomes significantly slower. Generating 10,000 trees to classify a new data point takes longer than 500 trees. We see that there is significant improvement between our 1 tree and 100 trees models but no major difference for the models with trees  >= 100. This implies that there are diminishing returns once we exceed an optimal number of trees.\n",
        "4. We also observed that different models have different performance time-wise. For example, KNN and Random Forest are significantly slower than Logistic Regression.\n",
        "5. We learned that these models have optimal hyperparatemers(e.g. number of neighbors in KNN, number of trees in RF). For example, increasing the number of neighbors helps reduce the effect of outliers but extremely high values can produce underfitting, leading to more false positives. Similarly, the precision and recall of random forest marginally changes when the number of trees becomes exceeds a certain number of trees."
      ]
    },
    {
      "cell_type": "markdown",
      "metadata": {
        "id": "f8_yw4gd8F_v"
      },
      "source": [
        "#References\n",
        "[1] Paea Lependu. CS 205 - 15 ML. https://docs.google.com/presentation/d/1f_EVfG47opczUo62B59_yVmxRp3cnGWIghLb3b7jHu0/edit#slide=id.ga5803557f1_0_88\n",
        "\n",
        "[2] https://www.youtube.com/watch?v=OO7Y5wQWnQs\n",
        "\n",
        "[3] https://www.kaggle.com/fedesoriano/heart-failure-prediction\n",
        "\n",
        "[4] https://www.cdc.gov/heartdisease/facts.htm\n",
        "\n",
        "[5] https://builtin.com/data-science/random-forest-algorithm\n",
        "\n",
        "[6] https://www.datacamp.com/community/tutorials/understanding-logistic-regression-python\n",
        "\n",
        "[7] https://realpython.com/logistic-regression-python/\n",
        "\n",
        "[8] https://medium.com/@dtuk81/confusion-matrix-visualization-fc31e3f30fea\n",
        "\n",
        "[9] https://www.kaggle.com/mruanova/heart-disease-prediction-random-forest-classifier"
      ]
    }
  ]
}